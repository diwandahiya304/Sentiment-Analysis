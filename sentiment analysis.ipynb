{
  "nbformat": 4,
  "nbformat_minor": 0,
  "metadata": {
    "colab": {
      "provenance": [],
      "authorship_tag": "ABX9TyN2qI9BOlJtkuhgteRLw3GV",
      "include_colab_link": true
    },
    "kernelspec": {
      "name": "python3",
      "display_name": "Python 3"
    },
    "language_info": {
      "name": "python"
    }
  },
  "cells": [
    {
      "cell_type": "markdown",
      "metadata": {
        "id": "view-in-github",
        "colab_type": "text"
      },
      "source": [
        "<a href=\"https://colab.research.google.com/github/diwandahiya304/Sentiment-Analysis/blob/main/sentiment%20analysis.ipynb\" target=\"_parent\"><img src=\"https://colab.research.google.com/assets/colab-badge.svg\" alt=\"Open In Colab\"/></a>"
      ]
    },
    {
      "cell_type": "markdown",
      "source": [
        "Importing all dependencies\n"
      ],
      "metadata": {
        "id": "MXR-IRDhkw1e"
      }
    },
    {
      "cell_type": "code",
      "execution_count": 17,
      "metadata": {
        "id": "OOu-PivRkbPi"
      },
      "outputs": [],
      "source": [
        "import numpy as np\n",
        "import pandas as pd\n",
        "import seaborn as sns\n",
        "import matplotlib.pyplot as plt\n",
        "import plotly.express as px\n",
        "import nltk\n",
        "from sklearn.feature_extraction.text import CountVectorizer\n",
        "from wordcloud import WordCloud,STOPWORDS\n",
        "from nltk.stem import WordNetLemmatizer\n",
        "from nltk.tokenize import word_tokenize\n",
        "import re,string,unicodedata\n",
        "from sklearn.metrics import classification_report,confusion_matrix,accuracy_score,f1_score\n",
        "from sklearn.model_selection import train_test_split\n",
        "from string import punctuation\n",
        "from nltk import pos_tag\n",
        "from nltk.corpus import wordnet\n",
        "import re\n",
        "import warnings\n",
        "warnings.filterwarnings('ignore')\n",
        "import matplotlib.pyplot as plt"
      ]
    },
    {
      "cell_type": "markdown",
      "source": [
        "Loading of data"
      ],
      "metadata": {
        "id": "uk9fIsoWGkGI"
      }
    },
    {
      "cell_type": "code",
      "source": [
        "%%time\n",
        "df=pd.read_csv(r'/IMDB-Dataset.csv',encoding='latin-1')"
      ],
      "metadata": {
        "id": "9ZjTmlrglOya",
        "colab": {
          "base_uri": "https://localhost:8080/"
        },
        "outputId": "debe37f1-f065-4c00-9940-0d4ef5e1d146"
      },
      "execution_count": 19,
      "outputs": [
        {
          "output_type": "stream",
          "name": "stdout",
          "text": [
            "CPU times: user 4.69 s, sys: 724 ms, total: 5.41 s\n",
            "Wall time: 5.45 s\n"
          ]
        }
      ]
    },
    {
      "cell_type": "code",
      "source": [
        "import nltk\n",
        "nltk.download('stopwords')"
      ],
      "metadata": {
        "colab": {
          "base_uri": "https://localhost:8080/"
        },
        "id": "W84-31BTjwdF",
        "outputId": "d4247fea-a3bc-4882-c0df-99ec8216fc5d"
      },
      "execution_count": 27,
      "outputs": [
        {
          "output_type": "stream",
          "name": "stderr",
          "text": [
            "[nltk_data] Downloading package stopwords to /root/nltk_data...\n",
            "[nltk_data]   Unzipping corpora/stopwords.zip.\n"
          ]
        },
        {
          "output_type": "execute_result",
          "data": {
            "text/plain": [
              "True"
            ]
          },
          "metadata": {},
          "execution_count": 27
        }
      ]
    },
    {
      "cell_type": "markdown",
      "source": [
        "Data cleaning and preprocessing"
      ],
      "metadata": {
        "id": "v1iNJqlUiUqr"
      }
    },
    {
      "cell_type": "code",
      "source": [
        "#customize stopword as per data\n",
        "from nltk.corpus import stopwords\n",
        "stop_words=stopwords.words('english')\n",
        "new_stopwords=[\"movie\",\"one\",\"film\",\"would\",\"shall\",\"could\",\"might\"]\n",
        "stop_words.extend(new_stopwords)\n",
        "stop_words.remove(\"not\")\n",
        "stop_words=set(stop_words)"
      ],
      "metadata": {
        "id": "SdwmVjNSHCF7"
      },
      "execution_count": 29,
      "outputs": []
    },
    {
      "cell_type": "code",
      "source": [
        "#Data cleaning and preprocessing pipeline\n",
        "#Removing special character\n",
        "def remove_special_character(content):\n",
        "  return re.sub('\\[[^&@#!]]*\\]','',content)\n",
        "\n",
        "#Removing URL's\n",
        "def remove_url(content):\n",
        "  return re.sub(r'http\\S+','',content)\n",
        "\n",
        "#Removing the stopwords from text\n",
        "def remove_stopwords(content):\n",
        "  clean_data=[]\n",
        "  for i in content.split():\n",
        "    if i.strip().lower() not in stop_words and i.strip().lower().isalpha():\n",
        "      clean_data.append(i.strip().lower())\n",
        "  return \" \".join(clean_data)\n",
        "\n",
        "#Expansion of english contractions\n",
        "def contraction_expansion(content):\n",
        "  content=re.sub(r\"won\\'t\",\"would not\",content)\n",
        "  content=re.sub(r\"can\\'t\",\"can not\",content)\n",
        "  content=re.sub(r\"don\\'t\",\"do not\",content)\n",
        "  content=re.sub(r\"shouldn\\'t\",\"should not\",content)\n",
        "  content=re.sub(r\"needn\\'t\",\"need not\",content)\n",
        "  content=re.sub(r\"hasn\\'t\",\"has not\",content)\n",
        "  content=re.sub(r\"haven\\'t\",\"have not\",content)\n",
        "  content=re.sub(r\"weren\\'t\",\"were not\",content)\n",
        "  content=re.sub(r\"mightn\\'t\",\"might not\",content)\n",
        "  content=re.sub(r\"didn\\'t\",\"did not\",content)\n",
        "  content=re.sub(r\"n\\'t\",\" not\",content)\n",
        "  content=re.sub(r\"\\'re\",\" are\",content)\n",
        "  content=re.sub(r\"\\'s\",\" is\",content)\n",
        "  content=re.sub(r\"\\'d\",\" would\",content)\n",
        "  content=re.sub(r\"\\'ll\",\" will\",content)\n",
        "  content=re.sub(r\"\\'t\",\" not\",content)\n",
        "  content=re.sub(r\"\\'ve\",\" have\",content)\n",
        "  content=re.sub(r\"\\'m\",\" am\",content)\n",
        "  return content\n",
        "\n",
        "#Data preprocessing\n",
        "def data_cleaning(content):\n",
        "  content=remove_special_character(content)\n",
        "  content=remove_url(content)\n",
        "  content=contraction_expansion(content)\n",
        "  content=remove_stopwords(content)\n",
        "  return content"
      ],
      "metadata": {
        "id": "eo9TRP7KikHl"
      },
      "execution_count": 34,
      "outputs": []
    },
    {
      "cell_type": "code",
      "source": [
        "%%time\n",
        "#Data cleaning\n",
        "df['Reviews']=df['Reviews'].apply(data_cleaning)\n",
        "df['Reviews'].head(5)"
      ],
      "metadata": {
        "colab": {
          "base_uri": "https://localhost:8080/"
        },
        "id": "weN8X5y9lrPC",
        "outputId": "1d3b812e-5186-4c34-93e0-2a9669ff661b"
      },
      "execution_count": 35,
      "outputs": [
        {
          "output_type": "stream",
          "name": "stdout",
          "text": [
            "CPU times: user 21.1 s, sys: 0 ns, total: 21.1 s\n",
            "Wall time: 21.3 s\n"
          ]
        },
        {
          "output_type": "execute_result",
          "data": {
            "text/plain": [
              "0    watched conditional see films not caught dead ...\n",
              "1    writing hopes gets put previous review anyone ...\n",
              "2    write scathing review turd going making observ...\n",
              "3    saw previous spoof movies two horrible know al...\n",
              "4    saw day early free still feel like got ripped ...\n",
              "Name: Reviews, dtype: object"
            ]
          },
          "metadata": {},
          "execution_count": 35
        }
      ]
    },
    {
      "cell_type": "markdown",
      "source": [
        "Data Overview"
      ],
      "metadata": {
        "id": "02v_ZHR_sBWl"
      }
    },
    {
      "cell_type": "code",
      "source": [
        "#checking for missing values\\\n",
        "df.isna().sum()"
      ],
      "metadata": {
        "colab": {
          "base_uri": "https://localhost:8080/"
        },
        "id": "Raw90cPvpa9U",
        "outputId": "497ad2dc-38d2-4583-8c05-8a988774623b"
      },
      "execution_count": 36,
      "outputs": [
        {
          "output_type": "execute_result",
          "data": {
            "text/plain": [
              "Ratings      0\n",
              "Reviews      0\n",
              "Movies      25\n",
              "Resenhas     0\n",
              "dtype: int64"
            ]
          },
          "metadata": {},
          "execution_count": 36
        }
      ]
    },
    {
      "cell_type": "code",
      "source": [
        "df['Ratings'].describe()"
      ],
      "metadata": {
        "colab": {
          "base_uri": "https://localhost:8080/"
        },
        "id": "aWRxYC-9sfTW",
        "outputId": "649537f4-e589-4dde-d93c-6c9f6134b29c"
      },
      "execution_count": 37,
      "outputs": [
        {
          "output_type": "execute_result",
          "data": {
            "text/plain": [
              "count    150000.000000\n",
              "mean          5.500000\n",
              "std           2.872291\n",
              "min           1.000000\n",
              "25%           3.000000\n",
              "50%           5.500000\n",
              "75%           8.000000\n",
              "max          10.000000\n",
              "Name: Ratings, dtype: float64"
            ]
          },
          "metadata": {},
          "execution_count": 37
        }
      ]
    },
    {
      "cell_type": "code",
      "source": [
        "df['Reviews'].describe()"
      ],
      "metadata": {
        "colab": {
          "base_uri": "https://localhost:8080/"
        },
        "id": "mHqkkm12sk2l",
        "outputId": "de669e1c-8a0b-4519-b7af-57c2b3b6065d"
      },
      "execution_count": 38,
      "outputs": [
        {
          "output_type": "execute_result",
          "data": {
            "text/plain": [
              "count     150000\n",
              "unique    149745\n",
              "top             \n",
              "freq          10\n",
              "Name: Reviews, dtype: object"
            ]
          },
          "metadata": {},
          "execution_count": 38
        }
      ]
    },
    {
      "cell_type": "code",
      "source": [
        "print('Unique reviews:%s' % df.Reviews.nunique())\n",
        "print('Unique movie names:%s' % df.Movies.nunique())\n",
        "print('No. of ratings:%s'% df.Ratings.count())"
      ],
      "metadata": {
        "colab": {
          "base_uri": "https://localhost:8080/"
        },
        "id": "zVzZ05XAssmX",
        "outputId": "15726874-3069-49c4-e6fc-6d83b4313962"
      },
      "execution_count": 39,
      "outputs": [
        {
          "output_type": "stream",
          "name": "stdout",
          "text": [
            "Unique reviews:149745\n",
            "Unique movie names:14206\n",
            "No. of ratings:150000\n"
          ]
        }
      ]
    },
    {
      "cell_type": "markdown",
      "source": [
        "Exploratory Data Analysis"
      ],
      "metadata": {
        "id": "xAGkwQfutPdS"
      }
    },
    {
      "cell_type": "code",
      "source": [
        "#checking for class imbalance\n",
        "sns.countplot(x=df['Ratings'])\n",
        "plt.show()\n",
        "print(df['Ratings'].value_counts())"
      ],
      "metadata": {
        "colab": {
          "base_uri": "https://localhost:8080/",
          "height": 640
        },
        "id": "nf20OFAXtJwB",
        "outputId": "678645e9-6721-4969-a324-05a96b35b7ba"
      },
      "execution_count": 40,
      "outputs": [
        {
          "output_type": "display_data",
          "data": {
            "text/plain": [
              "<Figure size 640x480 with 1 Axes>"
            ],
            "image/png": "[encoded data removed]"
          },
          "metadata": {}
        },
        {
          "output_type": "stream",
          "name": "stdout",
          "text": [
            "1.0     15000\n",
            "2.0     15000\n",
            "4.0     15000\n",
            "3.0     15000\n",
            "5.0     15000\n",
            "6.0     15000\n",
            "8.0     15000\n",
            "7.0     15000\n",
            "10.0    15000\n",
            "9.0     15000\n",
            "Name: Ratings, dtype: int64\n"
          ]
        }
      ]
    },
    {
      "cell_type": "code",
      "source": [],
      "metadata": {
        "id": "lC2KMvsWtuwq"
      },
      "execution_count": null,
      "outputs": []
    }
  ]
}